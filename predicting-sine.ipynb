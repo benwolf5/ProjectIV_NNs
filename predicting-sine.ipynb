{
 "cells": [
  {
   "cell_type": "code",
   "execution_count": 1,
   "metadata": {},
   "outputs": [],
   "source": [
    "import numpy as np\n",
    "import tensorflow as tf\n",
    "from tensorflow import keras\n",
    "from tensorflow.keras.layers import Dense, Activation, Dropout\n",
    "from tensorflow.keras.models import Sequential\n",
    "from tensorboard.plugins.hparams import api as hp\n",
    "from tensorflow import math as tm\n",
    "import kerastuner as kt\n",
    "import tensorflow.keras.backend as kb\n",
    "import math, time\n",
    "from kerastuner.engine.hyperparameters import HyperParameters\n",
    "from datetime import datetime\n",
    "import time\n",
    "import matplotlib.pyplot as plt\n",
    "import matplotlib.patches as mpatches\n",
    "import os"
   ]
  },
  {
   "cell_type": "code",
   "execution_count": 2,
   "metadata": {},
   "outputs": [],
   "source": [
    "dtype = 'float64' # Faster as float32 but 32-bit may not be enough memory without normalization\n",
    "tf.keras.backend.set_floatx(dtype)"
   ]
  },
  {
   "cell_type": "code",
   "execution_count": 3,
   "metadata": {},
   "outputs": [],
   "source": [
    "#set hyperparameters\n",
    "num_sample_points = 30\n",
    "num_samples = 1*10**3\n",
    "epoch_nums =32\n",
    "minibatch = 16\n",
    "horiz_aug = False\n",
    "vert_aug = False"
   ]
  },
  {
   "cell_type": "code",
   "execution_count": 4,
   "metadata": {},
   "outputs": [],
   "source": [
    "dropout = 0.2\n",
    "reg1_rate = 0.001\n",
    "reg2_rate = 0.001\n",
    "learning_rate = 0.001\n",
    "momentum = 0.5\n",
    "num_layers = 2\n",
    "units = 256\n",
    "act_func = 'relu'"
   ]
  },
  {
   "cell_type": "code",
   "execution_count": 5,
   "metadata": {},
   "outputs": [],
   "source": [
    "def data(sample_interval = [-4, 4], amplitude_interval = [-30,30]): #generate data\n",
    "\n",
    "    sample = np.linspace(*sample_interval, num_sample_points)\n",
    "    \n",
    "    period = lambda: np.random.uniform(0.05, 10*np.pi)\n",
    "    amplitude = lambda: np.random.uniform(*amplitude_interval)\n",
    "    \n",
    "    horiz_tran = lambda: 2*np.pi*np.random.uniform(0,int(horiz_aug)) # Worse performance with horizontal augmentation so (0,0) it\n",
    "    vert_tran = lambda: 20*(np.random.uniform(0,int(vert_aug))-0.5) # Augmenting\n",
    "    yAw = np.array([np.array([period(), amplitude()]) for i in range(num_samples)])\n",
    "    curves = np.array([ vert_tran() + yAw[i][1] * np.sin( ( horiz_tran() + sample ) * (2*np.pi/yAw[i][0]) )\n",
    "                       for i in range(num_samples) ])# Is it worth vectorizing this?\n",
    "    if not vert_aug:\n",
    "        curves = (curves.transpose() - np.mean(curves, axis=1)).transpose() # Pre-processes curves to centre them\n",
    "    #curves /= np.max(np.abs(curves)) # Normalizing data would lose magnitude/amplitude information\n",
    "    return [curves, yAw]\n",
    "# Returns list of 2 arrays [x,y]:\n",
    "# - x is an array of each curve sample list\n",
    "# - y is an array of the period-amplitude pair for each curve sample in x"
   ]
  },
  {
   "cell_type": "code",
   "execution_count": 6,
   "metadata": {},
   "outputs": [],
   "source": [
    "def model_builder():\n",
    "    initializer = keras.initializers.HeNormal()\n",
    "    \n",
    "    model = keras.Sequential()\n",
    "    model.add( keras.layers.Dense( units = num_sample_points, # Number of input nodes to match number of sample points\n",
    "                                   kernel_initializer = initializer, # Initialize weights\n",
    "                                   activation = act_func,\n",
    "                                   kernel_regularizer = keras.regularizers.l2(reg2_rate), #L2 regularisation\n",
    "                                   dtype=dtype))\n",
    "    keras.layers.BatchNormalization()\n",
    "\n",
    "    for layer in range(num_layers):\n",
    "        keras.layers.Dropout(dropout)\n",
    "        model.add( keras.layers.Dense( units = units,\n",
    "                                       activation = act_func,\n",
    "                                       kernel_regularizer = keras.regularizers.l2(reg2_rate),\n",
    "                                       dtype=dtype))\n",
    "        keras.layers.BatchNormalization() # Theory says to normalize after activation layer\n",
    "        \n",
    "    model.add( keras.layers.Dense(units = 2, activation = 'linear', dtype=dtype))\n",
    "    # Outputting amplitude-period pair requires 2 nodes in the output layer.\n",
    "    \n",
    "    model.compile(\n",
    "        optimizer = keras.optimizers.Adam(learning_rate = learning_rate),\n",
    "        loss = 'mse',\n",
    "        metrics = ['mse'] ) # Measures train&test performance\n",
    "    return model"
   ]
  },
  {
   "cell_type": "code",
   "execution_count": 7,
   "metadata": {},
   "outputs": [],
   "source": [
    "logdir = \"logs\\\\scalars\\\\\" + datetime.now().strftime(\"%Y%m%d-%H%M-%S\") #tensorboard \n",
    "tensorboard_callback = keras.callbacks.TensorBoard(log_dir=logdir)"
   ]
  },
  {
   "cell_type": "code",
   "execution_count": 8,
   "metadata": {},
   "outputs": [],
   "source": [
    "model = model_builder() #build model\n",
    "df = data() #generate data\n"
   ]
  },
  {
   "cell_type": "code",
   "execution_count": 9,
   "metadata": {},
   "outputs": [
    {
     "name": "stdout",
     "output_type": "stream",
     "text": [
      "Epoch 1/32\n",
      " 1/50 [..............................] - ETA: 0s - loss: 235.2674 - mse: 234.9012WARNING:tensorflow:From C:\\Users\\benwo\\Anaconda3\\envs\\tf\\lib\\site-packages\\tensorflow\\python\\ops\\summary_ops_v2.py:1277: stop (from tensorflow.python.eager.profiler) is deprecated and will be removed after 2020-07-01.\n",
      "Instructions for updating:\n",
      "use `tf.profiler.experimental.stop` instead.\n",
      " 2/50 [>.............................] - ETA: 1s - loss: 221.0565 - mse: 220.6914WARNING:tensorflow:Callbacks method `on_train_batch_end` is slow compared to the batch time (batch time: 0.0050s vs `on_train_batch_end` time: 0.0657s). Check your callbacks.\n",
      "50/50 [==============================] - ETA: 0s - loss: 115.6952 - mse: 115.336 - ETA: 0s - loss: 101.1839 - mse: 100.829 - ETA: 0s - loss: 94.0245 - mse: 93.6708  - 1s 13ms/step - loss: 90.0560 - mse: 89.7034 - val_loss: 66.9926 - val_mse: 66.6452\n",
      "Epoch 2/32\n",
      "50/50 [==============================] - ETA: 0s - loss: 41.0960 - mse: 40.748 - ETA: 0s - loss: 60.1659 - mse: 59.818 - ETA: 0s - loss: 58.1950 - mse: 57.848 - ETA: 0s - loss: 57.6765 - mse: 57.329 - 0s 5ms/step - loss: 59.5795 - mse: 59.2324 - val_loss: 57.8271 - val_mse: 57.4796\n",
      "Epoch 3/32\n",
      "50/50 [==============================] - ETA: 0s - loss: 45.2103 - mse: 44.862 - ETA: 0s - loss: 47.7889 - mse: 47.441 - ETA: 0s - loss: 51.2086 - mse: 50.860 - 0s 3ms/step - loss: 48.6325 - mse: 48.2838 - val_loss: 50.9119 - val_mse: 50.5617\n",
      "Epoch 4/32\n",
      "50/50 [==============================] - ETA: 0s - loss: 47.4705 - mse: 47.120 - ETA: 0s - loss: 42.8973 - mse: 42.546 - ETA: 0s - loss: 40.6981 - mse: 40.346 - 0s 3ms/step - loss: 41.1094 - mse: 40.7574 - val_loss: 40.5232 - val_mse: 40.1689\n",
      "Epoch 5/32\n",
      "50/50 [==============================] - ETA: 0s - loss: 30.4348 - mse: 30.080 - ETA: 0s - loss: 41.1623 - mse: 40.807 - ETA: 0s - loss: 33.6150 - mse: 33.258 - 0s 3ms/step - loss: 31.4094 - mse: 31.0525 - val_loss: 29.1703 - val_mse: 28.8105\n",
      "Epoch 6/32\n",
      "50/50 [==============================] - ETA: 0s - loss: 37.4866 - mse: 37.126 - ETA: 0s - loss: 22.2283 - mse: 21.867 - ETA: 0s - loss: 20.7232 - mse: 20.360 - 0s 3ms/step - loss: 19.6217 - mse: 19.2584 - val_loss: 18.2211 - val_mse: 17.8542\n",
      "Epoch 7/32\n",
      "50/50 [==============================] - ETA: 0s - loss: 11.3554 - mse: 10.988 - ETA: 0s - loss: 12.8971 - mse: 12.528 - ETA: 0s - loss: 10.5939 - mse: 10.224 - 0s 3ms/step - loss: 10.5031 - mse: 10.1326 - val_loss: 12.3671 - val_mse: 11.9929\n",
      "Epoch 8/32\n",
      "50/50 [==============================] - ETA: 0s - loss: 4.0106 - mse: 3.636 - ETA: 0s - loss: 6.2876 - mse: 5.912 - ETA: 0s - loss: 6.9003 - mse: 6.524 - ETA: 0s - loss: 7.0227 - mse: 6.646 - 0s 4ms/step - loss: 6.9190 - mse: 6.5424 - val_loss: 11.4492 - val_mse: 11.0708\n",
      "Epoch 9/32\n",
      "50/50 [==============================] - ETA: 0s - loss: 5.9939 - mse: 5.615 - ETA: 0s - loss: 6.0782 - mse: 5.699 - ETA: 0s - loss: 6.3947 - mse: 6.015 - 0s 3ms/step - loss: 7.0426 - mse: 6.6629 - val_loss: 10.7740 - val_mse: 10.3939\n",
      "Epoch 10/32\n",
      "50/50 [==============================] - ETA: 0s - loss: 5.7760 - mse: 5.395 - ETA: 0s - loss: 7.1539 - mse: 6.773 - ETA: 0s - loss: 8.1476 - mse: 7.767 - 0s 3ms/step - loss: 7.7641 - mse: 7.3836 - val_loss: 8.8705 - val_mse: 8.4893\n",
      "Epoch 11/32\n",
      "50/50 [==============================] - ETA: 0s - loss: 4.6859 - mse: 4.304 - ETA: 0s - loss: 6.1098 - mse: 5.728 - ETA: 0s - loss: 5.8633 - mse: 5.481 - ETA: 0s - loss: 6.1208 - mse: 5.739 - ETA: 0s - loss: 7.4057 - mse: 7.024 - 0s 6ms/step - loss: 7.4057 - mse: 7.0240 - val_loss: 12.1112 - val_mse: 11.7293\n",
      "Epoch 12/32\n",
      "50/50 [==============================] - ETA: 0s - loss: 5.7670 - mse: 5.385 - ETA: 0s - loss: 7.2597 - mse: 6.877 - ETA: 0s - loss: 7.6533 - mse: 7.271 - 0s 4ms/step - loss: 6.5477 - mse: 6.1658 - val_loss: 8.7624 - val_mse: 8.3801\n",
      "Epoch 13/32\n",
      "50/50 [==============================] - ETA: 0s - loss: 9.3525 - mse: 8.970 - ETA: 0s - loss: 5.1554 - mse: 4.772 - ETA: 0s - loss: 5.3813 - mse: 4.998 - 0s 3ms/step - loss: 5.1187 - mse: 4.7356 - val_loss: 9.3234 - val_mse: 8.9401\n",
      "Epoch 14/32\n",
      "50/50 [==============================] - ETA: 0s - loss: 5.5967 - mse: 5.213 - ETA: 0s - loss: 6.0668 - mse: 5.683 - ETA: 0s - loss: 5.8738 - mse: 5.490 - 0s 4ms/step - loss: 5.6056 - mse: 5.2218 - val_loss: 11.1546 - val_mse: 10.7703\n",
      "Epoch 15/32\n",
      "50/50 [==============================] - ETA: 0s - loss: 5.7701 - mse: 5.385 - ETA: 0s - loss: 5.6731 - mse: 5.288 - ETA: 0s - loss: 5.2120 - mse: 4.827 - 0s 3ms/step - loss: 5.6742 - mse: 5.2896 - val_loss: 8.3089 - val_mse: 7.9241\n",
      "Epoch 16/32\n",
      "50/50 [==============================] - ETA: 0s - loss: 3.6901 - mse: 3.305 - ETA: 0s - loss: 5.1895 - mse: 4.804 - ETA: 0s - loss: 5.2972 - mse: 4.911 - 0s 4ms/step - loss: 4.7911 - mse: 4.4056 - val_loss: 8.1284 - val_mse: 7.7425\n",
      "Epoch 17/32\n",
      "50/50 [==============================] - ETA: 0s - loss: 1.7329 - mse: 1.347 - ETA: 0s - loss: 4.6962 - mse: 4.310 - ETA: 0s - loss: 4.3066 - mse: 3.920 - ETA: 0s - loss: 4.7379 - mse: 4.351 - 0s 4ms/step - loss: 4.6707 - mse: 4.2845 - val_loss: 8.6822 - val_mse: 8.2952\n",
      "Epoch 18/32\n",
      "50/50 [==============================] - ETA: 0s - loss: 5.0437 - mse: 4.656 - ETA: 0s - loss: 4.3477 - mse: 3.960 - ETA: 0s - loss: 4.1890 - mse: 3.801 - 0s 3ms/step - loss: 4.3032 - mse: 3.9158 - val_loss: 8.0437 - val_mse: 7.6561\n",
      "Epoch 19/32\n",
      "50/50 [==============================] - ETA: 0s - loss: 3.7405 - mse: 3.353 - ETA: 0s - loss: 3.7761 - mse: 3.388 - ETA: 0s - loss: 4.9741 - mse: 4.586 - 0s 3ms/step - loss: 4.8674 - mse: 4.4793 - val_loss: 8.1555 - val_mse: 7.7672\n",
      "Epoch 20/32\n",
      "50/50 [==============================] - ETA: 0s - loss: 4.5044 - mse: 4.116 - ETA: 0s - loss: 3.7362 - mse: 3.347 - ETA: 0s - loss: 4.0081 - mse: 3.619 - 0s 3ms/step - loss: 3.9204 - mse: 3.5319 - val_loss: 7.7862 - val_mse: 7.3971\n",
      "Epoch 21/32\n",
      "50/50 [==============================] - ETA: 0s - loss: 8.9771 - mse: 8.588 - ETA: 0s - loss: 3.3008 - mse: 2.911 - ETA: 0s - loss: 3.9104 - mse: 3.521 - 0s 3ms/step - loss: 3.8200 - mse: 3.4305 - val_loss: 9.2483 - val_mse: 8.8580\n",
      "Epoch 22/32\n",
      "50/50 [==============================] - ETA: 0s - loss: 2.3567 - mse: 1.966 - ETA: 0s - loss: 4.9594 - mse: 4.568 - ETA: 0s - loss: 4.7281 - mse: 4.337 - 0s 3ms/step - loss: 4.7359 - mse: 4.3452 - val_loss: 7.1113 - val_mse: 6.7204\n",
      "Epoch 23/32\n",
      "50/50 [==============================] - ETA: 0s - loss: 3.2465 - mse: 2.855 - ETA: 0s - loss: 5.7118 - mse: 5.320 - ETA: 0s - loss: 5.0259 - mse: 4.634 - ETA: 0s - loss: 4.4103 - mse: 4.018 - 0s 5ms/step - loss: 4.4517 - mse: 4.0603 - val_loss: 8.5143 - val_mse: 8.1222\n",
      "Epoch 24/32\n",
      "50/50 [==============================] - ETA: 0s - loss: 1.8335 - mse: 1.441 - ETA: 0s - loss: 3.6361 - mse: 3.244 - ETA: 0s - loss: 3.5730 - mse: 3.180 - 0s 3ms/step - loss: 3.9378 - mse: 3.5456 - val_loss: 7.4216 - val_mse: 7.0290\n",
      "Epoch 25/32\n",
      "50/50 [==============================] - ETA: 0s - loss: 2.2265 - mse: 1.834 - ETA: 0s - loss: 5.6269 - mse: 5.234 - ETA: 0s - loss: 4.9684 - mse: 4.575 - 0s 3ms/step - loss: 4.5190 - mse: 4.1261 - val_loss: 7.4725 - val_mse: 7.0790\n",
      "Epoch 26/32\n",
      "50/50 [==============================] - ETA: 0s - loss: 1.6823 - mse: 1.288 - ETA: 0s - loss: 2.4927 - mse: 2.098 - ETA: 0s - loss: 3.2227 - mse: 2.829 - 0s 3ms/step - loss: 3.2531 - mse: 2.8593 - val_loss: 8.3192 - val_mse: 7.9252\n",
      "Epoch 27/32\n",
      "50/50 [==============================] - ETA: 0s - loss: 13.6430 - mse: 13.249 - ETA: 0s - loss: 3.8762 - mse: 3.4816  - ETA: 0s - loss: 3.4376 - mse: 3.042 - 0s 3ms/step - loss: 3.3810 - mse: 2.9861 - val_loss: 7.9770 - val_mse: 7.5816\n",
      "Epoch 28/32\n",
      "50/50 [==============================] - ETA: 0s - loss: 1.6718 - mse: 1.276 - ETA: 0s - loss: 3.0046 - mse: 2.609 - ETA: 0s - loss: 4.1342 - mse: 3.738 - 0s 4ms/step - loss: 4.0684 - mse: 3.6727 - val_loss: 8.8543 - val_mse: 8.4581\n",
      "Epoch 29/32\n",
      "50/50 [==============================] - ETA: 0s - loss: 4.8441 - mse: 4.447 - ETA: 0s - loss: 3.9736 - mse: 3.577 - ETA: 0s - loss: 4.3389 - mse: 3.942 - 0s 4ms/step - loss: 4.3323 - mse: 3.9354 - val_loss: 8.4042 - val_mse: 8.0064\n",
      "Epoch 30/32\n"
     ]
    },
    {
     "name": "stdout",
     "output_type": "stream",
     "text": [
      "50/50 [==============================] - ETA: 0s - loss: 1.8126 - mse: 1.414 - ETA: 0s - loss: 3.3350 - mse: 2.936 - ETA: 0s - loss: 3.7192 - mse: 3.320 - 0s 3ms/step - loss: 3.6933 - mse: 3.2949 - val_loss: 7.9098 - val_mse: 7.5109\n",
      "Epoch 31/32\n",
      "50/50 [==============================] - ETA: 0s - loss: 6.0299 - mse: 5.631 - ETA: 0s - loss: 2.8723 - mse: 2.473 - ETA: 0s - loss: 3.2941 - mse: 2.895 - 0s 3ms/step - loss: 3.3829 - mse: 2.9838 - val_loss: 8.8417 - val_mse: 8.4422\n",
      "Epoch 32/32\n",
      "50/50 [==============================] - ETA: 0s - loss: 8.8459 - mse: 8.446 - ETA: 0s - loss: 3.3612 - mse: 2.961 - 0s 3ms/step - loss: 3.8120 - mse: 3.4123 - val_loss: 11.1853 - val_mse: 10.7845\n",
      "Time Taken (s) :  7.347025632858276\n"
     ]
    }
   ],
   "source": [
    "start = time.time()\n",
    "training_history_1 = model.fit(*df,\n",
    "                             batch_size = minibatch, \n",
    "                             epochs = epoch_nums,\n",
    "                             verbose = 1, \n",
    "                             validation_split = 0.2, # Fraction of data used for validation set\n",
    "                             callbacks=[tensorboard_callback])\n",
    "end = time.time()\n",
    "time_taken = end-start #calculate time taken\n",
    "\n",
    "print(\"Time Taken (s) : \", time_taken)\n"
   ]
  },
  {
   "cell_type": "code",
   "execution_count": 10,
   "metadata": {},
   "outputs": [
    {
     "name": "stdout",
     "output_type": "stream",
     "text": [
      "Average test loss 1:  4.558738328720847\n",
      "Average val loss:  8.714364340741986\n",
      "Average MSE:  4.1684595722040605\n"
     ]
    }
   ],
   "source": [
    "print(\"Average test loss 1: \", np.average(training_history_1.history['loss'][10:]))\n",
    "print(\"Average val loss: \", np.average(training_history_1.history['val_loss'][10:]))\n",
    "print(\"Average MSE: \", np.average(training_history_1.history['mse'][10:]))\n",
    "\n"
   ]
  },
  {
   "cell_type": "code",
   "execution_count": 11,
   "metadata": {
    "scrolled": false
   },
   "outputs": [
    {
     "data": {
      "image/png": "[encoded data removed]",
      "text/plain": [
       "<Figure size 432x288 with 1 Axes>"
      ]
     },
     "metadata": {
      "needs_background": "light"
     },
     "output_type": "display_data"
    }
   ],
   "source": [
    "plt.plot(training_history_1.history['mse']) \n",
    "plt.plot(training_history_1.history['val_loss'])\n",
    "plt.title('Model Loss')\n",
    "plt.ylabel('Loss')\n",
    "plt.xlabel('Iteration')\n",
    "plt.legend(['Training Error', \"Validation Error\"], loc='upper left')\n",
    "plt.show()"
   ]
  },
  {
   "cell_type": "markdown",
   "metadata": {},
   "source": [
    "model.save(\"trained_sine_model\")\n",
    "saved_model = tf.keras.models.load_model(\"trained_sine_model\")"
   ]
  },
  {
   "cell_type": "code",
   "execution_count": null,
   "metadata": {},
   "outputs": [],
   "source": [
    "model.save(\"trained_sine_model\") \n",
    "saved_model = tf.keras.models.load_model(\"trained_sine_model\")"
   ]
  }
 ],
 "metadata": {
  "kernelspec": {
   "display_name": "Python 3",
   "language": "python",
   "name": "python3"
  },
  "language_info": {
   "codemirror_mode": {
    "name": "ipython",
    "version": 3
   },
   "file_extension": ".py",
   "mimetype": "text/x-python",
   "name": "python",
   "nbconvert_exporter": "python",
   "pygments_lexer": "ipython3",
   "version": "3.8.5"
  }
 },
 "nbformat": 4,
 "nbformat_minor": 2
}
