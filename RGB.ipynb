{
 "cells": [
  {
   "cell_type": "code",
   "execution_count": 2,
   "metadata": {},
   "outputs": [],
   "source": [
    "from PIL import Image"
   ]
  },
  {
   "cell_type": "code",
   "execution_count": 15,
   "metadata": {},
   "outputs": [],
   "source": [
    "im = Image.open(r\"C:\\Users\\benwo\\Documents\\Chads Year 4\\Project\\Write Up\\images\\mack.jpeg\")\n",
    "im.show()"
   ]
  },
  {
   "cell_type": "code",
   "execution_count": 5,
   "metadata": {},
   "outputs": [],
   "source": [
    "im1 = Image.Image.split(im) "
   ]
  },
  {
   "cell_type": "code",
   "execution_count": 6,
   "metadata": {},
   "outputs": [],
   "source": [
    "im1[0].show() \n",
    "im1[1].show() \n",
    "im1[2].show() "
   ]
  },
  {
   "cell_type": "code",
   "execution_count": 17,
   "metadata": {},
   "outputs": [
    {
     "name": "stdout",
     "output_type": "stream",
     "text": [
      "1920000\n"
     ]
    }
   ],
   "source": [
    "data = im.getdata()\n",
    "print(len(data))\n",
    "\n",
    "# Suppress specific bands (e.g. (255, 120, 65) -> (0, 120, 0) for g)\n",
    "r = [(d[0], 0, 0) for d in data]\n",
    "g = [(0, d[1], 0) for d in data]\n",
    "b = [(0, 0, d[2]) for d in data]\n",
    "\n",
    "im.putdata(r)\n",
    "im.save('mackr.png')\n",
    "im.putdata(g)\n",
    "im.save('mackg.png')\n",
    "im.putdata(b)\n",
    "im.save('mackb.png')"
   ]
  },
  {
   "cell_type": "code",
   "execution_count": 7,
   "metadata": {},
   "outputs": [
    {
     "name": "stdout",
     "output_type": "stream",
     "text": [
      "(1600, 1200, 3)\n"
     ]
    },
    {
     "data": {
      "text/plain": [
       "True"
      ]
     },
     "execution_count": 7,
     "metadata": {},
     "output_type": "execute_result"
    }
   ],
   "source": [
    "import cv2\n",
    "import numpy as np\n",
    "\n",
    "#read image\n",
    "src = cv2.imread(r'C:\\Users\\benwo\\Documents\\Chads Year 4\\Project\\Write Up\\images\\mack.jpeg', cv2.IMREAD_UNCHANGED)\n",
    "print(src.shape)\n",
    "\n",
    "# extract red channel\n",
    "red_channel = src[:,:,2]\n",
    "\n",
    "# create empty image with same shape as that of src image\n",
    "red_img = np.zeros(src.shape)\n",
    "\n",
    "#assign the red channel of src to empty image\n",
    "red_img[:,:,2] = red_channel\n",
    "\n",
    "#save image\n",
    "cv2.imwrite('mackR.png',red_img) \n",
    "\n",
    "# extract blue channel\n",
    "blue_channel = src[:,:,0]\n",
    "\n",
    "# create empty image with same shape as that of src image\n",
    "blue_img = np.zeros(src.shape)\n",
    "\n",
    "#assign the red channel of src to empty image\n",
    "blue_img[:,:,0] = blue_channel\n",
    "\n",
    "#save image\n",
    "cv2.imwrite('mackB.png',blue_img) \n",
    "\n",
    "# extract red channel\n",
    "green_channel = src[:,:,1]\n",
    "\n",
    "# create empty image with same shape as that of src image\n",
    "green_img = np.zeros(src.shape)\n",
    "\n",
    "#assign the red channel of src to empty image\n",
    "green_img[:,:,1] = green_channel\n",
    "\n",
    "#save image\n",
    "cv2.imwrite('mackG.png',green_img) "
   ]
  },
  {
   "cell_type": "code",
   "execution_count": null,
   "metadata": {},
   "outputs": [],
   "source": []
  }
 ],
 "metadata": {
  "kernelspec": {
   "display_name": "Python 3",
   "language": "python",
   "name": "python3"
  },
  "language_info": {
   "codemirror_mode": {
    "name": "ipython",
    "version": 3
   },
   "file_extension": ".py",
   "mimetype": "text/x-python",
   "name": "python",
   "nbconvert_exporter": "python",
   "pygments_lexer": "ipython3",
   "version": "3.8.5"
  }
 },
 "nbformat": 4,
 "nbformat_minor": 4
}
